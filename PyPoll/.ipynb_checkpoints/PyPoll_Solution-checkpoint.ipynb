{
 "cells": [
  {
   "cell_type": "code",
   "execution_count": 35,
   "metadata": {},
   "outputs": [
    {
     "name": "stdout",
     "output_type": "stream",
     "text": [
      "Election Results\n",
      "-------------------------------\n",
      "Total Votes: 3521002\n",
      "-------------------------------\n",
      "\n",
      "Khan :  63.0% (2218231)\n",
      "Correy :  20.0% (704200)\n",
      "Li :  14.0% (492940)\n",
      "O'Tooley :  3.0% (105630)\n",
      "-------------------------------\n",
      "Winner: Khan\n",
      "-------------------------------\n",
      "\n"
     ]
    }
   ],
   "source": [
    "# PyPoll_Solution\n",
    "\n",
    "import os\n",
    "import csv\n",
    "csvpath = os.path.join('..', 'Resources', 'election_data.csv')\n",
    "\n",
    "votes = 0\n",
    "candidates = []\n",
    "vote_count = {}\n",
    "vote_percent = {}\n",
    "\n",
    "with open(csvpath, newline=\"\") as csvfile:\n",
    "   csvreader = csv.reader(csvfile, delimiter=\",\")\n",
    "   \n",
    "   for row in csvreader:\n",
    "       votes = votes + 1\n",
    "       candidate = row[2]\n",
    "        \n",
    "       if candidate not in candidates and candidate not in \"Candidate\":\n",
    "           candidates.append(candidate) # add candidate to list of candidates\n",
    "           vote_count[candidate] = 1  # in dictionary, assign 1 vote to this candidate\n",
    "            \n",
    "       elif candidate in candidates and candidate not in \"Candidate\":\n",
    "           vote_count[candidate] = vote_count[candidate] + 1  # increment candidate's vote by 1\n",
    "   \n",
    "\n",
    "# Calculate percentage of votes\n",
    "   for key, value in vote_count.items():\n",
    "       vote_percent[key] = str(round(((value/votes)*100),3)) + \"% (\"+str(value) + \")\"\n",
    "\n",
    "#    find the WINNER\n",
    "   maxi = max(vote_count.keys(), key=(lambda k: vote_count[k]))\n",
    "\n",
    "    \n",
    "    #Variables needed to print results of election\n",
    "   space = \"-------------------------------\"\n",
    "   results1 = (\n",
    "       \"Election Results\" + '\\n' + space + '\\n' + \"Total Votes: \"+ str(votes)+ '\\n' + space + '\\n')\n",
    "   results2 = (\n",
    "       space + '\\n'\n",
    "       \"Winner: \"+ str(maxi)+ '\\n' + space + '\\n')\n",
    " \n",
    "\n",
    "# Print results of election\n",
    "   print(results1)\n",
    "   for key, val in vote_percent.items():\n",
    "       print(key, \": \", val)\n",
    "   print(results2)\n",
    "  \n",
    "# Create Output Text file\n",
    "   text_file = open(\"PyPoll_Election_results.txt\", \"w\")\n",
    "   text_file.write(results1)\n",
    "   for key, val in vote_percent.items():\n",
    "        text_file.write((key + \": \" + val)+ '\\n')\n",
    "   text_file.write(results2)\n",
    "\n",
    "# close file\n",
    "   text_file.close()"
   ]
  },
  {
   "cell_type": "code",
   "execution_count": null,
   "metadata": {},
   "outputs": [],
   "source": []
  }
 ],
 "metadata": {
  "kernelspec": {
   "display_name": "Python [conda env:PythonData] *",
   "language": "python",
   "name": "conda-env-PythonData-py"
  },
  "language_info": {
   "codemirror_mode": {
    "name": "ipython",
    "version": 3
   },
   "file_extension": ".py",
   "mimetype": "text/x-python",
   "name": "python",
   "nbconvert_exporter": "python",
   "pygments_lexer": "ipython3",
   "version": "3.6.9"
  }
 },
 "nbformat": 4,
 "nbformat_minor": 2
}
